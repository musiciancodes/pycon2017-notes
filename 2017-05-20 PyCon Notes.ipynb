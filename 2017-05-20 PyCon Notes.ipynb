{
 "cells": [
  {
   "cell_type": "markdown",
   "metadata": {},
   "source": [
    "# 10:50 AM: Automate AWS With Python\n",
    "[Moshe Zadka](https://orbifold.xyz/)"
   ]
  },
  {
   "cell_type": "markdown",
   "metadata": {},
   "source": [
    "Why automate?\n",
    "* Reproducibility + functionality\n",
    "\n",
    "Root account\n",
    "* your email/password\n",
    "\n",
    "IAM account\n",
    "* belongs to an AWS account\n",
    "* does not have to have a password\n",
    "* 2FA is probabily a good idea\n",
    "* meant for friendly users/human users\n",
    "\n",
    "API Key\n",
    "* optional\n",
    "* 0-2 accounts\n",
    "* for robot users\n",
    "\n",
    "> ** There is no reason to log in as root unless you'ev lost the credentials **\n",
    "\n",
    "\n",
    "**Consolidated billing**\n",
    "* Create master account\n",
    "* create sub-accounts\n",
    "* Easy to separate out\n",
    "\n",
    "\n",
    "Corporate awesomeness\n",
    "* Only admin/finance have access to master account: only for billing purposes\n",
    "* No resources in the master account\n",
    "* Production account for user-facing\n",
    "* Staging account\n",
    "* Build/test account\n",
    "* Pets\n",
    "\n",
    "Corporate policies\n",
    "* Prod/stage/build - all resources automated, tagged with reasons\n",
    "* Pets: tagged with dev name, garbage collect by default"
   ]
  },
  {
   "cell_type": "markdown",
   "metadata": {},
   "source": [
    "Generating API Key\n",
    "* Admin permission is needed\n",
    "* Saing secrets is hard\n",
    "* Keys have a publically sharable part (good for debugging)\n",
    "\n",
    "Rotating API keys\n",
    "* Up to 2 keys per user\n",
    "* Generate 2nd, deploy, invalidate old\n",
    "* Invalidation is reversible\n",
    "* If no problems, delete\n",
    "\n",
    "Regions and availability zones\n",
    "* Regions: geographical areas\n",
    "* Availability zones: data centers\n",
    "\n",
    "EC2 Instances\n",
    "* Virtual machines\n",
    "* Basic compute usnit\n",
    "* Size, cost varies\n",
    "\n",
    "Use cloudinit python pckage that grabs instance metadata\n",
    "* Configures machine, like ssh keys\n",
    "\n",
    "Keypair management\n",
    "* Generate pair on AWS\n",
    "* Upload public\n",
    "* Per-region name\n",
    "\n",
    "> Do not ssh in until you confirm with boto3\n",
    "\n",
    "AMI builds\n",
    "* \"Amazon machine unit\"\n",
    "* Ready made ones\n",
    "* Make your own\n",
    "* Can share across accounts\n",
    "* Avoid secrets across acounts\n",
    "\n",
    "Why build your own?\n",
    "* Security updates\n",
    "* Sepcific software\n",
    "* Automate with salt\n",
    "\n",
    "Cloud formation\n",
    "* Templates are JSON files\n",
    "* Can be parameterized\n",
    "* Can be self-referential\n",
    "* `json.dumps` works\n",
    "* Try using troposphere\n",
    "\n",
    "Can use the json to build a fresh stack.\n",
    "`client.create_stack(\"MyStack\", TemplateBody=cft)`\n",
    "\n",
    "Updating a stack: creating a new JSON\n",
    "* New JSON\n",
    "* Create a change-set\n",
    "* Optional: eyeball check\n",
    "* Apply a change-set\n",
    "* VPC in Cloud Formation\n",
    "* Separating stacks with VPCs; easy to duplicate, can build whole networks (VPC, Subents, Security groups)\n",
    "\n",
    "Summary\n",
    "> no root logins\n",
    "\n",
    "> cloud formation for everything (or terraform)\n",
    "\n",
    "> automate everyhing"
   ]
  },
  {
   "cell_type": "markdown",
   "metadata": {},
   "source": [
    "Snapshot management\n",
    "* Debugging\n",
    "* Can use for a halfway automated backup solution"
   ]
  },
  {
   "cell_type": "markdown",
   "metadata": {},
   "source": [
    "# 11:30 AM: When the abyss gazes back: staring down Python's surprising internals\n",
    "\n",
    "[David Wolever](https://twitter.com/wolever)\n"
   ]
  },
  {
   "cell_type": "markdown",
   "metadata": {},
   "source": [
    "** Motivation: odd behavior **\n",
    "[Why is tuple membership faster than equality?](http://stackoverflow.com/questions/28885132/why-is-x-in-x-faster-than-x-x)\n",
    "\n",
    "ipython's timeit magic is wonderful.\n",
    "\n",
    "`%timeit`\n",
    "\n",
    "```python\n",
    "dis.disassmble\n",
    "```\n",
    "Allows you to see the bytecode."
   ]
  },
  {
   "cell_type": "code",
   "execution_count": 16,
   "metadata": {
    "collapsed": true
   },
   "outputs": [],
   "source": [
    "import dis\n",
    "what = \"World\"\n",
    "def say_hello1():\n",
    "    msg = \"Hello, %s\" %(what,)\n",
    "    print(msg)"
   ]
  },
  {
   "cell_type": "code",
   "execution_count": 17,
   "metadata": {},
   "outputs": [
    {
     "name": "stdout",
     "output_type": "stream",
     "text": [
      "  4           0 LOAD_CONST               1 ('Hello, %s')\n",
      "              3 LOAD_GLOBAL              0 (what)\n",
      "              6 BUILD_TUPLE              1\n",
      "              9 BINARY_MODULO\n",
      "             10 STORE_FAST               0 (msg)\n",
      "\n",
      "  5          13 LOAD_GLOBAL              1 (print)\n",
      "             16 LOAD_FAST                0 (msg)\n",
      "             19 CALL_FUNCTION            1 (1 positional, 0 keyword pair)\n",
      "             22 POP_TOP\n",
      "             23 LOAD_CONST               0 (None)\n",
      "             26 RETURN_VALUE\n"
     ]
    }
   ],
   "source": [
    "dis.disassemble(say_hello1.__code__)"
   ]
  },
  {
   "cell_type": "code",
   "execution_count": 5,
   "metadata": {},
   "outputs": [
    {
     "data": {
      "text/plain": [
       "b'd\\x01\\x00t\\x00\\x00f\\x01\\x00\\x16}\\x00\\x00t\\x01\\x00|\\x00\\x00\\x83\\x01\\x00\\x01d\\x00\\x00S'"
      ]
     },
     "execution_count": 5,
     "metadata": {},
     "output_type": "execute_result"
    }
   ],
   "source": [
    "# full implementation of the function\n",
    "say_hello.__code__.co_code"
   ]
  },
  {
   "cell_type": "code",
   "execution_count": 14,
   "metadata": {},
   "outputs": [],
   "source": [
    "# func_closure\n",
    "def hello_closure(what):\n",
    "    msg = \"Hello, %s\" %(what,)\n",
    "    def hello_closure_inner():\n",
    "        return msg\n",
    "    return hello_closure_inner\n",
    "\n",
    "say_hello = hello_closure(\"World\")"
   ]
  },
  {
   "cell_type": "code",
   "execution_count": 9,
   "metadata": {},
   "outputs": [
    {
     "data": {
      "text/plain": [
       "'Hello, World'"
      ]
     },
     "execution_count": 9,
     "metadata": {},
     "output_type": "execute_result"
    }
   ],
   "source": [
    "say_hello()"
   ]
  },
  {
   "cell_type": "code",
   "execution_count": 12,
   "metadata": {
    "scrolled": true
   },
   "outputs": [
    {
     "data": {
      "text/plain": [
       "(<cell at 0x1061614c8: str object at 0x1061b20f0>,)"
      ]
     },
     "execution_count": 12,
     "metadata": {},
     "output_type": "execute_result"
    }
   ],
   "source": [
    "say_hello.__closure__"
   ]
  },
  {
   "cell_type": "code",
   "execution_count": 13,
   "metadata": {},
   "outputs": [
    {
     "data": {
      "text/plain": [
       "'Hello, World'"
      ]
     },
     "execution_count": 13,
     "metadata": {},
     "output_type": "execute_result"
    }
   ],
   "source": [
    "say_hello.__closure__[0].cell_contents"
   ]
  },
  {
   "cell_type": "code",
   "execution_count": 18,
   "metadata": {},
   "outputs": [
    {
     "name": "stdout",
     "output_type": "stream",
     "text": [
      "  4           0 LOAD_CONST               1 ('Hello, %s')\n",
      "              3 LOAD_GLOBAL              0 (what)\n",
      "              6 BUILD_TUPLE              1\n",
      "              9 BINARY_MODULO\n",
      "             10 STORE_FAST               0 (msg)\n",
      "\n",
      "  5          13 LOAD_GLOBAL              1 (print)\n",
      "             16 LOAD_FAST                0 (msg)\n",
      "             19 CALL_FUNCTION            1 (1 positional, 0 keyword pair)\n",
      "             22 POP_TOP\n",
      "             23 LOAD_CONST               0 (None)\n",
      "             26 RETURN_VALUE\n"
     ]
    }
   ],
   "source": [
    "# back to this\n",
    "# python overloads binary modulo operator to do string formatting\n",
    "dis.disassemble(say_hello1.__code__)"
   ]
  },
  {
   "cell_type": "markdown",
   "metadata": {},
   "source": [
    "### An aside: Stack Machines\n",
    "* Easy to implement\n",
    "* Easy to reason about\n",
    "* Easy to optimize"
   ]
  },
  {
   "cell_type": "code",
   "execution_count": 19,
   "metadata": {
    "collapsed": true
   },
   "outputs": [],
   "source": [
    "def in_():\n",
    "    return \"x\" in (\"x\", )"
   ]
  },
  {
   "cell_type": "code",
   "execution_count": 22,
   "metadata": {
    "collapsed": true
   },
   "outputs": [],
   "source": [
    "def eq():\n",
    "    return \"x\" == \"x\""
   ]
  },
  {
   "cell_type": "code",
   "execution_count": 21,
   "metadata": {},
   "outputs": [
    {
     "name": "stdout",
     "output_type": "stream",
     "text": [
      "  2           0 LOAD_CONST               1 ('x')\n",
      "              3 LOAD_CONST               2 (('x',))\n",
      "              6 COMPARE_OP               6 (in)\n",
      "              9 RETURN_VALUE\n"
     ]
    }
   ],
   "source": [
    "dis.disassemble(in_.__code__)"
   ]
  },
  {
   "cell_type": "code",
   "execution_count": 23,
   "metadata": {},
   "outputs": [
    {
     "name": "stdout",
     "output_type": "stream",
     "text": [
      "  2           0 LOAD_CONST               1 ('x')\n",
      "              3 LOAD_CONST               1 ('x')\n",
      "              6 COMPARE_OP               2 (==)\n",
      "              9 RETURN_VALUE\n"
     ]
    }
   ],
   "source": [
    "dis.disassemble(eq.__code__)"
   ]
  },
  {
   "cell_type": "markdown",
   "metadata": {},
   "source": [
    "Let's look at the source code:\n",
    "\n",
    "[ceval.c](https://github.com/certik/python-2.7/blob/c360290c3c9e55fbd79d6ceacdfc7cd4f393c1eb/Python/ceval.c)\n",
    "* This is where Python evaluation happens"
   ]
  },
  {
   "cell_type": "markdown",
   "metadata": {},
   "source": [
    "Let's read through the switch.\n",
    "\n",
    "> Why does the old @property operator not work with old style classes\n",
    "\n",
    "[Blog post about string interning](http://guilload.com/python-string-interning/)\n",
    "\n",
    "> Why can you not override `__len__`?\n"
   ]
  }
 ],
 "metadata": {
  "kernelspec": {
   "display_name": "Python 3",
   "language": "python",
   "name": "python3"
  },
  "language_info": {
   "codemirror_mode": {
    "name": "ipython",
    "version": 3
   },
   "file_extension": ".py",
   "mimetype": "text/x-python",
   "name": "python",
   "nbconvert_exporter": "python",
   "pygments_lexer": "ipython3",
   "version": "3.5.1"
  }
 },
 "nbformat": 4,
 "nbformat_minor": 2
}
