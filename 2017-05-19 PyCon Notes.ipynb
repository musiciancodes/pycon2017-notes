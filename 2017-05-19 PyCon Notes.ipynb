{
 "cells": [
  {
   "cell_type": "markdown",
   "metadata": {},
   "source": [
    "# 10:50 AM Requests under the hood\n",
    "\n",
    "[Cory Benfield](lukasa.co.uk)"
   ]
  },
  {
   "cell_type": "markdown",
   "metadata": {},
   "source": [
    "[This is the requests library](https://github.com/kennethreitz/requests)\n",
    "\n",
    "Why does code get messy?\n",
    "* \"You end up with a function where the only defined behavior is ... well it does whatever it does now, so let's not mess with it\"\n",
    "* \"When it works, we don't think about it\"\n",
    "* Pragmatism\n",
    "* The quick hacky fix is never temporary."
   ]
  },
  {
   "cell_type": "code",
   "execution_count": null,
   "metadata": {
    "collapsed": true
   },
   "outputs": [],
   "source": []
  }
 ],
 "metadata": {
  "kernelspec": {
   "display_name": "Python 3",
   "language": "python",
   "name": "python3"
  },
  "language_info": {
   "codemirror_mode": {
    "name": "ipython",
    "version": 3
   },
   "file_extension": ".py",
   "mimetype": "text/x-python",
   "name": "python",
   "nbconvert_exporter": "python",
   "pygments_lexer": "ipython3",
   "version": "3.5.1"
  }
 },
 "nbformat": 4,
 "nbformat_minor": 2
}
